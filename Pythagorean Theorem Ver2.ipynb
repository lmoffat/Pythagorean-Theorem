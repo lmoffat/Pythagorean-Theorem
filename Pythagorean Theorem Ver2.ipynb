{
 "cells": [
  {
   "cell_type": "markdown",
   "metadata": {
    "collapsed": true,
    "slideshow": {
     "slide_type": "slide"
    }
   },
   "source": [
    "# Pythagorean Theorem, version 2"
   ]
  },
  {
   "cell_type": "markdown",
   "metadata": {
    "slideshow": {
     "slide_type": "subslide"
    }
   },
   "source": [
    "#### For a right triangle with side lengths a and b, and hypotenuse c, "
   ]
  },
  {
   "cell_type": "markdown",
   "metadata": {
    "slideshow": {
     "slide_type": "subslide"
    }
   },
   "source": [
    "#### the length of b is the square root of the difference of the squares of the hypotenuse and other side."
   ]
  },
  {
   "cell_type": "code",
   "execution_count": 1,
   "metadata": {
    "collapsed": true,
    "slideshow": {
     "slide_type": "slide"
    }
   },
   "outputs": [],
   "source": [
    "%matplotlib inline\n",
    "import numpy as np\n",
    "import matplotlib.pyplot as plt\n",
    "import sys, math\n",
    "from ipywidgets import *\n"
   ]
  },
  {
   "cell_type": "markdown",
   "metadata": {
    "slideshow": {
     "slide_type": "slide"
    }
   },
   "source": [
    "## Given leg lengths a and hypotenuse c, find b."
   ]
  },
  {
   "cell_type": "code",
   "execution_count": 2,
   "metadata": {
    "collapsed": false,
    "slideshow": {
     "slide_type": "slide"
    }
   },
   "outputs": [],
   "source": [
    "widgets.IntSlider(\n",
    "    value=3,\n",
    "    min=1,\n",
    "    max=25,\n",
    "    step=1,\n",
    "    description='Length of a:',\n",
    "    disabled=False,\n",
    "    continuous_update=False,\n",
    "    orientation='horizontal',\n",
    "    readout=True,\n",
    "    readout_format='i',\n",
    "    slider_color='white'\n",
    ")\n"
   ]
  },
  {
   "cell_type": "code",
   "execution_count": 3,
   "metadata": {
    "collapsed": true,
    "slideshow": {
     "slide_type": "slide"
    }
   },
   "outputs": [],
   "source": [
    "widgets.IntSlider(\n",
    "    value=5,\n",
    "    min=1,\n",
    "    max=25,\n",
    "    step=1,\n",
    "    description='Length of hypotenuse:',\n",
    "    disabled=False,\n",
    "    continuous_update=False,\n",
    "    orientation='horizontal',\n",
    "    readout=True,\n",
    "    readout_format='i',\n",
    "    slider_color='white'\n",
    ")"
   ]
  },
  {
   "cell_type": "code",
   "execution_count": 4,
   "metadata": {
    "collapsed": false,
    "slideshow": {
     "slide_type": "slide"
    }
   },
   "outputs": [
    {
     "name": "stdout",
     "output_type": "stream",
     "text": [
      "Enter the triangle's leg length: 6\n",
      "Enter the triangle's hypotenuse length: 10\n",
      "leg^2 is: 64.0\n",
      "Length of the third leg: 8.0\n"
     ]
    }
   ],
   "source": [
    "#User input for leg length and hypotenuse\n",
    "leg = float(input(\"Enter the triangle's leg length: \"))\n",
    "hypotenuse = float(input(\"Enter the triangle's hypotenuse length: \"))\n",
    "\n",
    "#Find difference between square of hypotenuse and square of leg\n",
    "difference = pow(hypotenuse,2) - pow(leg,2)\n",
    "\n",
    "#Print square of 3rd leg\n",
    "print(\"leg^2 is: \" + str(difference))\n",
    "\n",
    "#Find square root of 3rd leg and print\n",
    "d = math.sqrt(difference)\n",
    "print(\"Length of the third leg: \" + str(d))\n",
    "\n"
   ]
  },
  {
   "cell_type": "markdown",
   "metadata": {
    "collapsed": true
   },
   "source": [
    "# How do values from sliders become input values (a and c)?"
   ]
  }
 ],
 "metadata": {
  "kernelspec": {
   "display_name": "Python 3",
   "language": "python",
   "name": "python3"
  },
  "language_info": {
   "codemirror_mode": {
    "name": "ipython",
    "version": 3
   },
   "file_extension": ".py",
   "mimetype": "text/x-python",
   "name": "python",
   "nbconvert_exporter": "python",
   "pygments_lexer": "ipython3",
   "version": "3.6.0"
  },
  "widgets": {
   "state": {
    "291b627f6d37455b988a7c04a104c149": {
     "views": [
      {
       "cell_index": 6
      }
     ]
    },
    "97cbeb7fff3943e4b9990e76521b7d63": {
     "views": [
      {
       "cell_index": 5
      }
     ]
    }
   },
   "version": "1.2.0"
  }
 },
 "nbformat": 4,
 "nbformat_minor": 2
}
