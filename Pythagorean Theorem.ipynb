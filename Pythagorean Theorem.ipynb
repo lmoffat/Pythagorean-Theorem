{
 "cells": [
  {
   "cell_type": "markdown",
   "metadata": {
    "collapsed": true,
    "slideshow": {
     "slide_type": "slide"
    }
   },
   "source": [
    "# Pythagorean Theorem"
   ]
  },
  {
   "cell_type": "markdown",
   "metadata": {
    "slideshow": {
     "slide_type": "subslide"
    }
   },
   "source": [
    "#### For a right triangle with side lengths a and b, and hypotenuse c, "
   ]
  },
  {
   "cell_type": "markdown",
   "metadata": {
    "slideshow": {
     "slide_type": "subslide"
    }
   },
   "source": [
    "#### the length of c is the square root of the sum of the squares of the sides."
   ]
  },
  {
   "cell_type": "code",
   "execution_count": 1,
   "metadata": {
    "collapsed": true,
    "slideshow": {
     "slide_type": "slide"
    }
   },
   "outputs": [],
   "source": [
    "%matplotlib inline\n",
    "import numpy as np\n",
    "import matplotlib.pyplot as plt\n",
    "import sys, math\n",
    "from ipywidgets import *\n"
   ]
  },
  {
   "cell_type": "markdown",
   "metadata": {
    "slideshow": {
     "slide_type": "slide"
    }
   },
   "source": [
    "# Given leg lengths a and b, find hypotenuse c."
   ]
  },
  {
   "cell_type": "code",
   "execution_count": 2,
   "metadata": {
    "collapsed": false,
    "slideshow": {
     "slide_type": "slide"
    }
   },
   "outputs": [],
   "source": [
    "widgets.IntSlider(\n",
    "    value=3,\n",
    "    min=1,\n",
    "    max=25,\n",
    "    step=1,\n",
    "    description='Length of a:',\n",
    "    disabled=False,\n",
    "    continuous_update=False,\n",
    "    orientation='horizontal',\n",
    "    readout=True,\n",
    "    readout_format='i',\n",
    "    slider_color='white'\n",
    ")\n"
   ]
  },
  {
   "cell_type": "code",
   "execution_count": 3,
   "metadata": {
    "collapsed": true,
    "slideshow": {
     "slide_type": "slide"
    }
   },
   "outputs": [],
   "source": [
    "widgets.IntSlider(\n",
    "    value=4,\n",
    "    min=1,\n",
    "    max=25,\n",
    "    step=1,\n",
    "    description='Length of b:',\n",
    "    disabled=False,\n",
    "    continuous_update=False,\n",
    "    orientation='horizontal',\n",
    "    readout=True,\n",
    "    readout_format='i',\n",
    "    slider_color='white'\n",
    ")"
   ]
  },
  {
   "cell_type": "code",
   "execution_count": 4,
   "metadata": {
    "collapsed": false,
    "slideshow": {
     "slide_type": "slide"
    }
   },
   "outputs": [
    {
     "name": "stdout",
     "output_type": "stream",
     "text": [
      "Enter the triangle's leg length: 6\n",
      "Enter the triangle's leg length: 8\n",
      "c^2 is: 100.0\n",
      "Length of the hypotenuse: 10.0\n"
     ]
    }
   ],
   "source": [
    "a = float(input(\"Enter the triangle's leg length: \"))\n",
    "b = float(input(\"Enter the triangle's leg length: \"))\n",
    "c = pow(a,2) + pow(b,2)\n",
    "print(\"c^2 is: \"+ str(c))\n",
    "hypotenuse = math.sqrt(c)\n",
    "print(\"Length of the hypotenuse: \" + str(hypotenuse))\n"
   ]
  },
  {
   "cell_type": "markdown",
   "metadata": {
    "collapsed": true
   },
   "source": [
    "# How do values from sliders become input values (a and b)?"
   ]
  }
 ],
 "metadata": {
  "kernelspec": {
   "display_name": "Python 3",
   "language": "python",
   "name": "python3"
  },
  "language_info": {
   "codemirror_mode": {
    "name": "ipython",
    "version": 3
   },
   "file_extension": ".py",
   "mimetype": "text/x-python",
   "name": "python",
   "nbconvert_exporter": "python",
   "pygments_lexer": "ipython3",
   "version": "3.6.0"
  },
  "widgets": {
   "state": {
    "354b034a69434845ac38a1b05a8eef7f": {
     "views": [
      {
       "cell_index": 6
      }
     ]
    },
    "d0cd066323e547319a1aa8453e82f357": {
     "views": [
      {
       "cell_index": 5
      }
     ]
    }
   },
   "version": "1.2.0"
  }
 },
 "nbformat": 4,
 "nbformat_minor": 2
}
